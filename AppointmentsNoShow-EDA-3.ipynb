{
 "cells": [
  {
   "cell_type": "code",
   "execution_count": 1,
   "metadata": {
    "collapsed": true
   },
   "outputs": [],
   "source": [
    "import numpy as np\n",
    "import pandas as pd\n",
    "#import requests\n",
    "#from bs4 import BeautifulSoup\n",
    "from datetime import date, datetime, timedelta\n",
    "#Con esto podemos echar un vistazo a código HTML directamente en la Notebook\n",
    "from IPython.display import HTML, display"
   ]
  },
  {
   "cell_type": "code",
   "execution_count": 2,
   "metadata": {},
   "outputs": [
    {
     "data": {
      "text/html": [
       "<div>\n",
       "<style>\n",
       "    .dataframe thead tr:only-child th {\n",
       "        text-align: right;\n",
       "    }\n",
       "\n",
       "    .dataframe thead th {\n",
       "        text-align: left;\n",
       "    }\n",
       "\n",
       "    .dataframe tbody tr th {\n",
       "        vertical-align: top;\n",
       "    }\n",
       "</style>\n",
       "<table border=\"1\" class=\"dataframe\">\n",
       "  <thead>\n",
       "    <tr style=\"text-align: right;\">\n",
       "      <th></th>\n",
       "      <th>PatientId</th>\n",
       "      <th>AppointmentID</th>\n",
       "      <th>Gender</th>\n",
       "      <th>Age</th>\n",
       "      <th>Neighbourhood</th>\n",
       "      <th>Scholarship</th>\n",
       "      <th>Hipertension</th>\n",
       "      <th>Diabetes</th>\n",
       "      <th>Alcoholism</th>\n",
       "      <th>Handcap</th>\n",
       "      <th>...</th>\n",
       "      <th>Sea Level Pressure low in</th>\n",
       "      <th>Visibility high ml</th>\n",
       "      <th>Visibility avg ml</th>\n",
       "      <th>Visibility low ml</th>\n",
       "      <th>Wind high mph</th>\n",
       "      <th>Wind avg mph</th>\n",
       "      <th>Wind low mph</th>\n",
       "      <th>Precip sum</th>\n",
       "      <th>event</th>\n",
       "      <th>date</th>\n",
       "    </tr>\n",
       "  </thead>\n",
       "  <tbody>\n",
       "    <tr>\n",
       "      <th>0</th>\n",
       "      <td>2.987250e+13</td>\n",
       "      <td>5642903</td>\n",
       "      <td>F</td>\n",
       "      <td>62</td>\n",
       "      <td>JARDIM DA PENHA</td>\n",
       "      <td>0</td>\n",
       "      <td>1</td>\n",
       "      <td>0</td>\n",
       "      <td>0</td>\n",
       "      <td>0</td>\n",
       "      <td>...</td>\n",
       "      <td>29.95</td>\n",
       "      <td>12</td>\n",
       "      <td>7</td>\n",
       "      <td>6</td>\n",
       "      <td>16</td>\n",
       "      <td>11</td>\n",
       "      <td>-</td>\n",
       "      <td>0.01</td>\n",
       "      <td>Nothing</td>\n",
       "      <td>2016-04-29</td>\n",
       "    </tr>\n",
       "    <tr>\n",
       "      <th>1</th>\n",
       "      <td>5.589978e+14</td>\n",
       "      <td>5642503</td>\n",
       "      <td>M</td>\n",
       "      <td>56</td>\n",
       "      <td>JARDIM DA PENHA</td>\n",
       "      <td>0</td>\n",
       "      <td>0</td>\n",
       "      <td>0</td>\n",
       "      <td>0</td>\n",
       "      <td>0</td>\n",
       "      <td>...</td>\n",
       "      <td>29.95</td>\n",
       "      <td>12</td>\n",
       "      <td>7</td>\n",
       "      <td>6</td>\n",
       "      <td>16</td>\n",
       "      <td>11</td>\n",
       "      <td>-</td>\n",
       "      <td>0.01</td>\n",
       "      <td>Nothing</td>\n",
       "      <td>2016-04-29</td>\n",
       "    </tr>\n",
       "    <tr>\n",
       "      <th>2</th>\n",
       "      <td>4.262962e+12</td>\n",
       "      <td>5642549</td>\n",
       "      <td>F</td>\n",
       "      <td>62</td>\n",
       "      <td>MATA DA PRAIA</td>\n",
       "      <td>0</td>\n",
       "      <td>0</td>\n",
       "      <td>0</td>\n",
       "      <td>0</td>\n",
       "      <td>0</td>\n",
       "      <td>...</td>\n",
       "      <td>29.95</td>\n",
       "      <td>12</td>\n",
       "      <td>7</td>\n",
       "      <td>6</td>\n",
       "      <td>16</td>\n",
       "      <td>11</td>\n",
       "      <td>-</td>\n",
       "      <td>0.01</td>\n",
       "      <td>Nothing</td>\n",
       "      <td>2016-04-29</td>\n",
       "    </tr>\n",
       "    <tr>\n",
       "      <th>3</th>\n",
       "      <td>8.679512e+11</td>\n",
       "      <td>5642828</td>\n",
       "      <td>F</td>\n",
       "      <td>8</td>\n",
       "      <td>PONTAL DE CAMBURI</td>\n",
       "      <td>0</td>\n",
       "      <td>0</td>\n",
       "      <td>0</td>\n",
       "      <td>0</td>\n",
       "      <td>0</td>\n",
       "      <td>...</td>\n",
       "      <td>29.95</td>\n",
       "      <td>12</td>\n",
       "      <td>7</td>\n",
       "      <td>6</td>\n",
       "      <td>16</td>\n",
       "      <td>11</td>\n",
       "      <td>-</td>\n",
       "      <td>0.01</td>\n",
       "      <td>Nothing</td>\n",
       "      <td>2016-04-29</td>\n",
       "    </tr>\n",
       "    <tr>\n",
       "      <th>4</th>\n",
       "      <td>8.841186e+12</td>\n",
       "      <td>5642494</td>\n",
       "      <td>F</td>\n",
       "      <td>56</td>\n",
       "      <td>JARDIM DA PENHA</td>\n",
       "      <td>0</td>\n",
       "      <td>1</td>\n",
       "      <td>1</td>\n",
       "      <td>0</td>\n",
       "      <td>0</td>\n",
       "      <td>...</td>\n",
       "      <td>29.95</td>\n",
       "      <td>12</td>\n",
       "      <td>7</td>\n",
       "      <td>6</td>\n",
       "      <td>16</td>\n",
       "      <td>11</td>\n",
       "      <td>-</td>\n",
       "      <td>0.01</td>\n",
       "      <td>Nothing</td>\n",
       "      <td>2016-04-29</td>\n",
       "    </tr>\n",
       "  </tbody>\n",
       "</table>\n",
       "<p>5 rows × 38 columns</p>\n",
       "</div>"
      ],
      "text/plain": [
       "      PatientId  AppointmentID Gender  Age      Neighbourhood  Scholarship  \\\n",
       "0  2.987250e+13        5642903      F   62    JARDIM DA PENHA            0   \n",
       "1  5.589978e+14        5642503      M   56    JARDIM DA PENHA            0   \n",
       "2  4.262962e+12        5642549      F   62      MATA DA PRAIA            0   \n",
       "3  8.679512e+11        5642828      F    8  PONTAL DE CAMBURI            0   \n",
       "4  8.841186e+12        5642494      F   56    JARDIM DA PENHA            0   \n",
       "\n",
       "   Hipertension  Diabetes  Alcoholism  Handcap     ...      \\\n",
       "0             1         0           0        0     ...       \n",
       "1             0         0           0        0     ...       \n",
       "2             0         0           0        0     ...       \n",
       "3             0         0           0        0     ...       \n",
       "4             1         1           0        0     ...       \n",
       "\n",
       "   Sea Level Pressure low in Visibility high ml Visibility avg ml  \\\n",
       "0                      29.95                 12                 7   \n",
       "1                      29.95                 12                 7   \n",
       "2                      29.95                 12                 7   \n",
       "3                      29.95                 12                 7   \n",
       "4                      29.95                 12                 7   \n",
       "\n",
       "  Visibility low ml Wind high mph Wind avg mph  Wind low mph  Precip sum  \\\n",
       "0                 6            16           11             -        0.01   \n",
       "1                 6            16           11             -        0.01   \n",
       "2                 6            16           11             -        0.01   \n",
       "3                 6            16           11             -        0.01   \n",
       "4                 6            16           11             -        0.01   \n",
       "\n",
       "     event        date  \n",
       "0  Nothing  2016-04-29  \n",
       "1  Nothing  2016-04-29  \n",
       "2  Nothing  2016-04-29  \n",
       "3  Nothing  2016-04-29  \n",
       "4  Nothing  2016-04-29  \n",
       "\n",
       "[5 rows x 38 columns]"
      ]
     },
     "execution_count": 2,
     "metadata": {},
     "output_type": "execute_result"
    }
   ],
   "source": [
    "file = 'final_2016.csv'\n",
    "data = pd.read_csv(file)\n",
    "data.head()"
   ]
  },
  {
   "cell_type": "code",
   "execution_count": 3,
   "metadata": {},
   "outputs": [
    {
     "name": "stdout",
     "output_type": "stream",
     "text": [
      "2016-04-29 2016-06-08\n",
      "2015-11-10 2016-06-08\n",
      "(110527, 38)\n",
      "0\n"
     ]
    }
   ],
   "source": [
    "print(data['DateAppointment'].min(), data['DateAppointment'].max())\n",
    "print(data['DateScheduled'].min(), data['DateScheduled'].max())\n",
    "print(data.shape)\n",
    "print(data.isnull().sum().sum())"
   ]
  },
  {
   "cell_type": "markdown",
   "metadata": {},
   "source": [
    "### Next Steps:\n",
    "   [1. Reducing number of columns and rebanming some.](#Reducing columns)\n",
    "   \n",
    "   [2. Looking for outliers and other inconsistencies.](#some cleaning)\n",
    "   \n",
    "   [3. Creating new feature: dayofweek (where necessary).](#DayOfWeek)\n",
    "\n",
    "   [4. Days in between appointment and schedule (where necessary).](#awaitingTime)\n",
    "\n",
    "   [5. Mapping (where possible).](#Repeat)\n",
    "   \n",
    "   [6. Repeat patinet and previousno-shows.](#mapping)\n",
    "\n",
    "  [7. More cleaning and maybe Time of day (if possible).](#more)"
   ]
  },
  {
   "cell_type": "markdown",
   "metadata": {},
   "source": [
    "<a id='Reducing columns'></a>\n",
    "## 1. Reducing columns."
   ]
  },
  {
   "cell_type": "code",
   "execution_count": null,
   "metadata": {
    "collapsed": true
   },
   "outputs": [],
   "source": [
    "### From weather I will only leave 'temp_avg_f', 'wind_avg_mph', 'Precip sum' and 'event' as weather data."
   ]
  },
  {
   "cell_type": "code",
   "execution_count": 4,
   "metadata": {},
   "outputs": [
    {
     "data": {
      "text/plain": [
       "18"
      ]
     },
     "execution_count": 4,
     "metadata": {},
     "output_type": "execute_result"
    }
   ],
   "source": [
    "useless_columns = ['dia', 'temp_high_f', 'Temp low F', 'Dew Point high F','Dew_Point_avg_F',\n",
    "       'Dew Point low F', 'humidity high %','humidity avg %','humidity low %', 'Sea Level Pressure high in',\n",
    "       'Sea Level Pressure avg (in)', 'Sea Level Pressure low in', 'Visibility avg ml',\n",
    "       'Visibility high ml', 'Visibility low ml',\n",
    "       'Wind high mph', 'Wind low mph', 'date']\n",
    "len(useless_columns)"
   ]
  },
  {
   "cell_type": "code",
   "execution_count": 5,
   "metadata": {},
   "outputs": [
    {
     "name": "stdout",
     "output_type": "stream",
     "text": [
      "20\n",
      "20\n"
     ]
    }
   ],
   "source": [
    "#final_columns = set(data.columns) - set(useless_columns)\n",
    "final_columns = [c for c in data.columns if c not in useless_columns]\n",
    "#final_columns = list(final_columns)\n",
    "\n",
    "print(len(data.columns)-(len(useless_columns)))\n",
    "print(len(final_columns))"
   ]
  },
  {
   "cell_type": "code",
   "execution_count": 6,
   "metadata": {},
   "outputs": [
    {
     "data": {
      "text/html": [
       "<div>\n",
       "<style>\n",
       "    .dataframe thead tr:only-child th {\n",
       "        text-align: right;\n",
       "    }\n",
       "\n",
       "    .dataframe thead th {\n",
       "        text-align: left;\n",
       "    }\n",
       "\n",
       "    .dataframe tbody tr th {\n",
       "        vertical-align: top;\n",
       "    }\n",
       "</style>\n",
       "<table border=\"1\" class=\"dataframe\">\n",
       "  <thead>\n",
       "    <tr style=\"text-align: right;\">\n",
       "      <th></th>\n",
       "      <th>PatientId</th>\n",
       "      <th>AppointmentID</th>\n",
       "      <th>Gender</th>\n",
       "      <th>Age</th>\n",
       "      <th>Neighbourhood</th>\n",
       "      <th>Scholarship</th>\n",
       "      <th>Hipertension</th>\n",
       "      <th>Diabetes</th>\n",
       "      <th>Alcoholism</th>\n",
       "      <th>Handcap</th>\n",
       "      <th>SMS_received</th>\n",
       "      <th>No-show</th>\n",
       "      <th>DateScheduled</th>\n",
       "      <th>TimeScheduled</th>\n",
       "      <th>DateAppointment</th>\n",
       "      <th>TimeAppointment</th>\n",
       "      <th>temp_avg_f</th>\n",
       "      <th>Wind avg mph</th>\n",
       "      <th>Precip sum</th>\n",
       "      <th>event</th>\n",
       "    </tr>\n",
       "  </thead>\n",
       "  <tbody>\n",
       "    <tr>\n",
       "      <th>0</th>\n",
       "      <td>2.987250e+13</td>\n",
       "      <td>5642903</td>\n",
       "      <td>F</td>\n",
       "      <td>62</td>\n",
       "      <td>JARDIM DA PENHA</td>\n",
       "      <td>0</td>\n",
       "      <td>1</td>\n",
       "      <td>0</td>\n",
       "      <td>0</td>\n",
       "      <td>0</td>\n",
       "      <td>0</td>\n",
       "      <td>No</td>\n",
       "      <td>2016-04-29</td>\n",
       "      <td>18:38:08</td>\n",
       "      <td>2016-04-29</td>\n",
       "      <td>00:00:00</td>\n",
       "      <td>73</td>\n",
       "      <td>11</td>\n",
       "      <td>0.01</td>\n",
       "      <td>Nothing</td>\n",
       "    </tr>\n",
       "    <tr>\n",
       "      <th>1</th>\n",
       "      <td>5.589978e+14</td>\n",
       "      <td>5642503</td>\n",
       "      <td>M</td>\n",
       "      <td>56</td>\n",
       "      <td>JARDIM DA PENHA</td>\n",
       "      <td>0</td>\n",
       "      <td>0</td>\n",
       "      <td>0</td>\n",
       "      <td>0</td>\n",
       "      <td>0</td>\n",
       "      <td>0</td>\n",
       "      <td>No</td>\n",
       "      <td>2016-04-29</td>\n",
       "      <td>16:08:27</td>\n",
       "      <td>2016-04-29</td>\n",
       "      <td>00:00:00</td>\n",
       "      <td>73</td>\n",
       "      <td>11</td>\n",
       "      <td>0.01</td>\n",
       "      <td>Nothing</td>\n",
       "    </tr>\n",
       "    <tr>\n",
       "      <th>2</th>\n",
       "      <td>4.262962e+12</td>\n",
       "      <td>5642549</td>\n",
       "      <td>F</td>\n",
       "      <td>62</td>\n",
       "      <td>MATA DA PRAIA</td>\n",
       "      <td>0</td>\n",
       "      <td>0</td>\n",
       "      <td>0</td>\n",
       "      <td>0</td>\n",
       "      <td>0</td>\n",
       "      <td>0</td>\n",
       "      <td>No</td>\n",
       "      <td>2016-04-29</td>\n",
       "      <td>16:19:04</td>\n",
       "      <td>2016-04-29</td>\n",
       "      <td>00:00:00</td>\n",
       "      <td>73</td>\n",
       "      <td>11</td>\n",
       "      <td>0.01</td>\n",
       "      <td>Nothing</td>\n",
       "    </tr>\n",
       "    <tr>\n",
       "      <th>3</th>\n",
       "      <td>8.679512e+11</td>\n",
       "      <td>5642828</td>\n",
       "      <td>F</td>\n",
       "      <td>8</td>\n",
       "      <td>PONTAL DE CAMBURI</td>\n",
       "      <td>0</td>\n",
       "      <td>0</td>\n",
       "      <td>0</td>\n",
       "      <td>0</td>\n",
       "      <td>0</td>\n",
       "      <td>0</td>\n",
       "      <td>No</td>\n",
       "      <td>2016-04-29</td>\n",
       "      <td>17:29:31</td>\n",
       "      <td>2016-04-29</td>\n",
       "      <td>00:00:00</td>\n",
       "      <td>73</td>\n",
       "      <td>11</td>\n",
       "      <td>0.01</td>\n",
       "      <td>Nothing</td>\n",
       "    </tr>\n",
       "    <tr>\n",
       "      <th>4</th>\n",
       "      <td>8.841186e+12</td>\n",
       "      <td>5642494</td>\n",
       "      <td>F</td>\n",
       "      <td>56</td>\n",
       "      <td>JARDIM DA PENHA</td>\n",
       "      <td>0</td>\n",
       "      <td>1</td>\n",
       "      <td>1</td>\n",
       "      <td>0</td>\n",
       "      <td>0</td>\n",
       "      <td>0</td>\n",
       "      <td>No</td>\n",
       "      <td>2016-04-29</td>\n",
       "      <td>16:07:23</td>\n",
       "      <td>2016-04-29</td>\n",
       "      <td>00:00:00</td>\n",
       "      <td>73</td>\n",
       "      <td>11</td>\n",
       "      <td>0.01</td>\n",
       "      <td>Nothing</td>\n",
       "    </tr>\n",
       "  </tbody>\n",
       "</table>\n",
       "</div>"
      ],
      "text/plain": [
       "      PatientId  AppointmentID Gender  Age      Neighbourhood  Scholarship  \\\n",
       "0  2.987250e+13        5642903      F   62    JARDIM DA PENHA            0   \n",
       "1  5.589978e+14        5642503      M   56    JARDIM DA PENHA            0   \n",
       "2  4.262962e+12        5642549      F   62      MATA DA PRAIA            0   \n",
       "3  8.679512e+11        5642828      F    8  PONTAL DE CAMBURI            0   \n",
       "4  8.841186e+12        5642494      F   56    JARDIM DA PENHA            0   \n",
       "\n",
       "   Hipertension  Diabetes  Alcoholism  Handcap  SMS_received No-show  \\\n",
       "0             1         0           0        0             0      No   \n",
       "1             0         0           0        0             0      No   \n",
       "2             0         0           0        0             0      No   \n",
       "3             0         0           0        0             0      No   \n",
       "4             1         1           0        0             0      No   \n",
       "\n",
       "  DateScheduled TimeScheduled DateAppointment TimeAppointment  temp_avg_f  \\\n",
       "0    2016-04-29      18:38:08      2016-04-29        00:00:00          73   \n",
       "1    2016-04-29      16:08:27      2016-04-29        00:00:00          73   \n",
       "2    2016-04-29      16:19:04      2016-04-29        00:00:00          73   \n",
       "3    2016-04-29      17:29:31      2016-04-29        00:00:00          73   \n",
       "4    2016-04-29      16:07:23      2016-04-29        00:00:00          73   \n",
       "\n",
       "   Wind avg mph  Precip sum    event  \n",
       "0            11        0.01  Nothing  \n",
       "1            11        0.01  Nothing  \n",
       "2            11        0.01  Nothing  \n",
       "3            11        0.01  Nothing  \n",
       "4            11        0.01  Nothing  "
      ]
     },
     "execution_count": 6,
     "metadata": {},
     "output_type": "execute_result"
    }
   ],
   "source": [
    "new_data = data[final_columns]\n",
    "new_data.head()"
   ]
  },
  {
   "cell_type": "code",
   "execution_count": 7,
   "metadata": {},
   "outputs": [
    {
     "data": {
      "text/plain": [
       "20"
      ]
     },
     "execution_count": 7,
     "metadata": {},
     "output_type": "execute_result"
    }
   ],
   "source": [
    "len(new_data.columns)"
   ]
  },
  {
   "cell_type": "code",
   "execution_count": 8,
   "metadata": {
    "collapsed": true
   },
   "outputs": [],
   "source": [
    " new_data = new_data.rename(columns={'Hipertension': 'Hypertension', 'Neighbourhood': 'Neighborhood', 'Handcap': 'Handicap',\\\n",
    "                        'temp_avg_f': 'Temp_f', 'Wind avg mph': 'wind_mph', 'Precip sum': 'Precip', 'event': 'Event'})"
   ]
  },
  {
   "cell_type": "code",
   "execution_count": 9,
   "metadata": {},
   "outputs": [
    {
     "name": "stdout",
     "output_type": "stream",
     "text": [
      "2016-04-29 2016-06-08\n",
      "2015-11-10 2016-06-08\n"
     ]
    }
   ],
   "source": [
    "print(new_data['DateAppointment'].min(), new_data['DateAppointment'].max())\n",
    "print(new_data['DateScheduled'].min(), new_data['DateScheduled'].max())"
   ]
  },
  {
   "cell_type": "code",
   "execution_count": 10,
   "metadata": {},
   "outputs": [
    {
     "data": {
      "text/plain": [
       "PatientId          0\n",
       "AppointmentID      0\n",
       "Gender             0\n",
       "Age                0\n",
       "Neighborhood       0\n",
       "Scholarship        0\n",
       "Hypertension       0\n",
       "Diabetes           0\n",
       "Alcoholism         0\n",
       "Handicap           0\n",
       "SMS_received       0\n",
       "No-show            0\n",
       "DateScheduled      0\n",
       "TimeScheduled      0\n",
       "DateAppointment    0\n",
       "TimeAppointment    0\n",
       "Temp_f             0\n",
       "wind_mph           0\n",
       "Precip             0\n",
       "Event              0\n",
       "dtype: int64"
      ]
     },
     "execution_count": 10,
     "metadata": {},
     "output_type": "execute_result"
    }
   ],
   "source": [
    "new_data.isnull().sum()"
   ]
  },
  {
   "cell_type": "markdown",
   "metadata": {},
   "source": [
    "<a id='some cleaning'></a>\n",
    "## 2. Outliers and inconsitencies"
   ]
  },
  {
   "cell_type": "code",
   "execution_count": 11,
   "metadata": {},
   "outputs": [
    {
     "name": "stdout",
     "output_type": "stream",
     "text": [
      "Gender 2 ['F' 'M']\n",
      "Age 104 [ 62  56   8  76  23  39  21  19  30  29  22  28  54  15  50  40  46   4\n",
      "  13  65  45  51  32  12  61  38  79  18  63  64  85  59  55  71  49  78\n",
      "  31  58  27   6   2  11   7   0   3   1  69  68  60  67  36  10  35  20\n",
      "  26  34  33  16  42   5  47  17  41  44  37  24  66  77  81  70  53  75\n",
      "  73  52  74  43  89  57  14   9  48  83  72  25  80  87  88  84  82  90\n",
      "  94  86  91  98  92  96  93  95  97 102 115 100  99  -1]\n",
      "Neighborhood 81 ['JARDIM DA PENHA' 'MATA DA PRAIA' 'PONTAL DE CAMBURI' 'REPÚBLICA'\n",
      " 'GOIABEIRAS' 'ANDORINHAS' 'CONQUISTA' 'NOVA PALESTINA' 'DA PENHA'\n",
      " 'TABUAZEIRO' 'BENTO FERREIRA' 'SÃO PEDRO' 'SANTA MARTHA' 'SÃO CRISTÓVÃO'\n",
      " 'MARUÍPE' 'GRANDE VITÓRIA' 'SÃO BENEDITO' 'ILHA DAS CAIEIRAS'\n",
      " 'SANTO ANDRÉ' 'SOLON BORGES' 'BONFIM' 'JARDIM CAMBURI' 'MARIA ORTIZ'\n",
      " 'JABOUR' 'ANTÔNIO HONÓRIO' 'RESISTÊNCIA' 'ILHA DE SANTA MARIA'\n",
      " 'JUCUTUQUARA' 'MONTE BELO' 'MÁRIO CYPRESTE' 'SANTO ANTÔNIO' 'BELA VISTA'\n",
      " 'PRAIA DO SUÁ' 'SANTA HELENA' 'ITARARÉ' 'INHANGUETÁ' 'UNIVERSITÁRIO'\n",
      " 'SÃO JOSÉ' 'REDENÇÃO' 'SANTA CLARA' 'CENTRO' 'PARQUE MOSCOSO' 'DO MOSCOSO'\n",
      " 'SANTOS DUMONT' 'CARATOÍRA' 'ARIOVALDO FAVALESSA' 'ILHA DO FRADE'\n",
      " 'GURIGICA' 'JOANA D´ARC' 'CONSOLAÇÃO' 'PRAIA DO CANTO' 'BOA VISTA'\n",
      " 'MORADA DE CAMBURI' 'SANTA LUÍZA' 'SANTA LÚCIA' 'BARRO VERMELHO'\n",
      " 'ESTRELINHA' 'FORTE SÃO JOÃO' 'FONTE GRANDE' 'ENSEADA DO SUÁ'\n",
      " 'SANTOS REIS' 'PIEDADE' 'JESUS DE NAZARETH' 'SANTA TEREZA' 'CRUZAMENTO'\n",
      " 'ILHA DO PRÍNCIPE' 'ROMÃO' 'COMDUSA' 'SANTA CECÍLIA' 'VILA RUBIM'\n",
      " 'DE LOURDES' 'DO QUADRO' 'DO CABRAL' 'HORTO' 'SEGURANÇA DO LAR'\n",
      " 'ILHA DO BOI' 'FRADINHOS' 'NAZARETH' 'AEROPORTO'\n",
      " 'ILHAS OCEÂNICAS DE TRINDADE' 'PARQUE INDUSTRIAL']\n",
      "Scholarship 2 [0 1]\n",
      "Hypertension 2 [1 0]\n",
      "Diabetes 2 [0 1]\n",
      "Alcoholism 2 [0 1]\n",
      "Handicap 5 [0 1 2 3 4]\n",
      "SMS_received 2 [0 1]\n"
     ]
    }
   ],
   "source": [
    "##Selecting ####Scholarship is a subsidy given by the goverment and neighborhoods is where the hospital is located\n",
    "for item in ['Gender', 'Age', 'Neighborhood', 'Scholarship', 'Hypertension', 'Diabetes',\\\n",
    "             'Alcoholism', 'Handicap', 'SMS_received']:\n",
    "    print(item, len(new_data[item].unique()), new_data[item].unique() )"
   ]
  },
  {
   "cell_type": "code",
   "execution_count": 12,
   "metadata": {},
   "outputs": [
    {
     "name": "stdout",
     "output_type": "stream",
     "text": [
      "1 7\n"
     ]
    }
   ],
   "source": [
    "# I will fix ages less than 0 and over 100\n",
    "print(new_data[new_data['Age'] <0].count()['Age'], new_data[new_data['Age'] >100].count()['Age'])\n",
    "new_data['Age'] = [c if c >=0 else 0 for c in new_data.Age]"
   ]
  },
  {
   "cell_type": "code",
   "execution_count": 13,
   "metadata": {},
   "outputs": [
    {
     "data": {
      "text/html": [
       "<div>\n",
       "<style>\n",
       "    .dataframe thead tr:only-child th {\n",
       "        text-align: right;\n",
       "    }\n",
       "\n",
       "    .dataframe thead th {\n",
       "        text-align: left;\n",
       "    }\n",
       "\n",
       "    .dataframe tbody tr th {\n",
       "        vertical-align: top;\n",
       "    }\n",
       "</style>\n",
       "<table border=\"1\" class=\"dataframe\">\n",
       "  <thead>\n",
       "    <tr style=\"text-align: right;\">\n",
       "      <th></th>\n",
       "      <th>PatientId</th>\n",
       "      <th>AppointmentID</th>\n",
       "      <th>Gender</th>\n",
       "      <th>Age</th>\n",
       "      <th>Neighborhood</th>\n",
       "      <th>Scholarship</th>\n",
       "      <th>Hypertension</th>\n",
       "      <th>Diabetes</th>\n",
       "      <th>Alcoholism</th>\n",
       "      <th>Handicap</th>\n",
       "      <th>SMS_received</th>\n",
       "      <th>No-show</th>\n",
       "      <th>DateScheduled</th>\n",
       "      <th>TimeScheduled</th>\n",
       "      <th>DateAppointment</th>\n",
       "      <th>TimeAppointment</th>\n",
       "      <th>Temp_f</th>\n",
       "      <th>wind_mph</th>\n",
       "      <th>Precip</th>\n",
       "      <th>Event</th>\n",
       "    </tr>\n",
       "  </thead>\n",
       "  <tbody>\n",
       "    <tr>\n",
       "      <th>58014</th>\n",
       "      <td>9.762948e+14</td>\n",
       "      <td>5651757</td>\n",
       "      <td>F</td>\n",
       "      <td>102</td>\n",
       "      <td>CONQUISTA</td>\n",
       "      <td>0</td>\n",
       "      <td>0</td>\n",
       "      <td>0</td>\n",
       "      <td>0</td>\n",
       "      <td>0</td>\n",
       "      <td>0</td>\n",
       "      <td>No</td>\n",
       "      <td>2016-05-03</td>\n",
       "      <td>09:14:53</td>\n",
       "      <td>2016-05-03</td>\n",
       "      <td>00:00:00</td>\n",
       "      <td>70</td>\n",
       "      <td>5</td>\n",
       "      <td>0.0</td>\n",
       "      <td>Nothing</td>\n",
       "    </tr>\n",
       "    <tr>\n",
       "      <th>63912</th>\n",
       "      <td>3.196321e+13</td>\n",
       "      <td>5700278</td>\n",
       "      <td>F</td>\n",
       "      <td>115</td>\n",
       "      <td>ANDORINHAS</td>\n",
       "      <td>0</td>\n",
       "      <td>0</td>\n",
       "      <td>0</td>\n",
       "      <td>0</td>\n",
       "      <td>1</td>\n",
       "      <td>0</td>\n",
       "      <td>Yes</td>\n",
       "      <td>2016-05-16</td>\n",
       "      <td>09:17:44</td>\n",
       "      <td>2016-05-19</td>\n",
       "      <td>00:00:00</td>\n",
       "      <td>76</td>\n",
       "      <td>9</td>\n",
       "      <td>0.0</td>\n",
       "      <td>Nothing</td>\n",
       "    </tr>\n",
       "    <tr>\n",
       "      <th>63915</th>\n",
       "      <td>3.196321e+13</td>\n",
       "      <td>5700279</td>\n",
       "      <td>F</td>\n",
       "      <td>115</td>\n",
       "      <td>ANDORINHAS</td>\n",
       "      <td>0</td>\n",
       "      <td>0</td>\n",
       "      <td>0</td>\n",
       "      <td>0</td>\n",
       "      <td>1</td>\n",
       "      <td>0</td>\n",
       "      <td>Yes</td>\n",
       "      <td>2016-05-16</td>\n",
       "      <td>09:17:44</td>\n",
       "      <td>2016-05-19</td>\n",
       "      <td>00:00:00</td>\n",
       "      <td>76</td>\n",
       "      <td>9</td>\n",
       "      <td>0.0</td>\n",
       "      <td>Nothing</td>\n",
       "    </tr>\n",
       "    <tr>\n",
       "      <th>68127</th>\n",
       "      <td>3.196321e+13</td>\n",
       "      <td>5562812</td>\n",
       "      <td>F</td>\n",
       "      <td>115</td>\n",
       "      <td>ANDORINHAS</td>\n",
       "      <td>0</td>\n",
       "      <td>0</td>\n",
       "      <td>0</td>\n",
       "      <td>0</td>\n",
       "      <td>1</td>\n",
       "      <td>0</td>\n",
       "      <td>Yes</td>\n",
       "      <td>2016-04-08</td>\n",
       "      <td>14:29:17</td>\n",
       "      <td>2016-05-16</td>\n",
       "      <td>00:00:00</td>\n",
       "      <td>80</td>\n",
       "      <td>8</td>\n",
       "      <td>0.0</td>\n",
       "      <td>Nothing</td>\n",
       "    </tr>\n",
       "    <tr>\n",
       "      <th>76284</th>\n",
       "      <td>3.196321e+13</td>\n",
       "      <td>5744037</td>\n",
       "      <td>F</td>\n",
       "      <td>115</td>\n",
       "      <td>ANDORINHAS</td>\n",
       "      <td>0</td>\n",
       "      <td>0</td>\n",
       "      <td>0</td>\n",
       "      <td>0</td>\n",
       "      <td>1</td>\n",
       "      <td>0</td>\n",
       "      <td>No</td>\n",
       "      <td>2016-05-30</td>\n",
       "      <td>09:44:51</td>\n",
       "      <td>2016-05-30</td>\n",
       "      <td>00:00:00</td>\n",
       "      <td>77</td>\n",
       "      <td>5</td>\n",
       "      <td>0.0</td>\n",
       "      <td>Nothing</td>\n",
       "    </tr>\n",
       "    <tr>\n",
       "      <th>90372</th>\n",
       "      <td>2.342836e+11</td>\n",
       "      <td>5751563</td>\n",
       "      <td>F</td>\n",
       "      <td>102</td>\n",
       "      <td>MARIA ORTIZ</td>\n",
       "      <td>0</td>\n",
       "      <td>0</td>\n",
       "      <td>0</td>\n",
       "      <td>0</td>\n",
       "      <td>0</td>\n",
       "      <td>0</td>\n",
       "      <td>No</td>\n",
       "      <td>2016-05-31</td>\n",
       "      <td>10:19:49</td>\n",
       "      <td>2016-06-02</td>\n",
       "      <td>00:00:00</td>\n",
       "      <td>78</td>\n",
       "      <td>5</td>\n",
       "      <td>0.0</td>\n",
       "      <td>Nothing</td>\n",
       "    </tr>\n",
       "    <tr>\n",
       "      <th>97666</th>\n",
       "      <td>7.482346e+14</td>\n",
       "      <td>5717451</td>\n",
       "      <td>F</td>\n",
       "      <td>115</td>\n",
       "      <td>SÃO JOSÉ</td>\n",
       "      <td>0</td>\n",
       "      <td>1</td>\n",
       "      <td>0</td>\n",
       "      <td>0</td>\n",
       "      <td>0</td>\n",
       "      <td>1</td>\n",
       "      <td>No</td>\n",
       "      <td>2016-05-19</td>\n",
       "      <td>07:57:56</td>\n",
       "      <td>2016-06-03</td>\n",
       "      <td>00:00:00</td>\n",
       "      <td>76</td>\n",
       "      <td>6</td>\n",
       "      <td>0.0</td>\n",
       "      <td>Nothing</td>\n",
       "    </tr>\n",
       "  </tbody>\n",
       "</table>\n",
       "</div>"
      ],
      "text/plain": [
       "          PatientId  AppointmentID Gender  Age Neighborhood  Scholarship  \\\n",
       "58014  9.762948e+14        5651757      F  102    CONQUISTA            0   \n",
       "63912  3.196321e+13        5700278      F  115   ANDORINHAS            0   \n",
       "63915  3.196321e+13        5700279      F  115   ANDORINHAS            0   \n",
       "68127  3.196321e+13        5562812      F  115   ANDORINHAS            0   \n",
       "76284  3.196321e+13        5744037      F  115   ANDORINHAS            0   \n",
       "90372  2.342836e+11        5751563      F  102  MARIA ORTIZ            0   \n",
       "97666  7.482346e+14        5717451      F  115     SÃO JOSÉ            0   \n",
       "\n",
       "       Hypertension  Diabetes  Alcoholism  Handicap  SMS_received No-show  \\\n",
       "58014             0         0           0         0             0      No   \n",
       "63912             0         0           0         1             0     Yes   \n",
       "63915             0         0           0         1             0     Yes   \n",
       "68127             0         0           0         1             0     Yes   \n",
       "76284             0         0           0         1             0      No   \n",
       "90372             0         0           0         0             0      No   \n",
       "97666             1         0           0         0             1      No   \n",
       "\n",
       "      DateScheduled TimeScheduled DateAppointment TimeAppointment  Temp_f  \\\n",
       "58014    2016-05-03      09:14:53      2016-05-03        00:00:00      70   \n",
       "63912    2016-05-16      09:17:44      2016-05-19        00:00:00      76   \n",
       "63915    2016-05-16      09:17:44      2016-05-19        00:00:00      76   \n",
       "68127    2016-04-08      14:29:17      2016-05-16        00:00:00      80   \n",
       "76284    2016-05-30      09:44:51      2016-05-30        00:00:00      77   \n",
       "90372    2016-05-31      10:19:49      2016-06-02        00:00:00      78   \n",
       "97666    2016-05-19      07:57:56      2016-06-03        00:00:00      76   \n",
       "\n",
       "       wind_mph  Precip    Event  \n",
       "58014         5     0.0  Nothing  \n",
       "63912         9     0.0  Nothing  \n",
       "63915         9     0.0  Nothing  \n",
       "68127         8     0.0  Nothing  \n",
       "76284         5     0.0  Nothing  \n",
       "90372         5     0.0  Nothing  \n",
       "97666         6     0.0  Nothing  "
      ]
     },
     "execution_count": 13,
     "metadata": {},
     "output_type": "execute_result"
    }
   ],
   "source": [
    "#Obviously, to leave over 100 years is not that common but this outliers I understand are justified.More explanation\n",
    "new_data[new_data['Age'] > 100]"
   ]
  },
  {
   "cell_type": "markdown",
   "metadata": {},
   "source": [
    "<a id='DayOfWeek'></a>\n",
    "## 3. NewFeatures: Day of the Week and month of the year"
   ]
  },
  {
   "cell_type": "code",
   "execution_count": 14,
   "metadata": {},
   "outputs": [
    {
     "name": "stdout",
     "output_type": "stream",
     "text": [
      "0    Friday\n",
      "1    Friday\n",
      "2    Friday\n",
      "3    Friday\n",
      "4    Friday\n",
      "Name: day_of_week, dtype: object\n",
      "0    4\n",
      "1    4\n",
      "2    4\n",
      "3    4\n",
      "4    4\n",
      "Name: month_of_year, dtype: int64\n"
     ]
    }
   ],
   "source": [
    "##Day_of_week, NO big expectations for month_of_the_year because it is mainly one month: May but might be useful in the future\n",
    "new_data['day_of_week'] = pd.to_datetime(new_data['DateAppointment']).dt.weekday_name\n",
    "print(new_data['day_of_week'].head())\n",
    "new_data['month_of_year'] = pd.to_datetime(new_data['DateAppointment']).dt.month\n",
    "print(new_data['month_of_year'].head())"
   ]
  },
  {
   "cell_type": "code",
   "execution_count": 15,
   "metadata": {
    "collapsed": true
   },
   "outputs": [],
   "source": [
    "new_data['day_of_week'] = new_data['day_of_week'].replace({'Monday': 1, 'Tuesday': 2, 'Wednesday': 3, 'Thursday': 4, 'Friday': 5,\\\n",
    "                                'Saturday': 6})"
   ]
  },
  {
   "cell_type": "markdown",
   "metadata": {},
   "source": [
    "<a id='awaitingTime'></a>\n",
    "## 4. NewFeature: AwaitingTime"
   ]
  },
  {
   "cell_type": "code",
   "execution_count": 16,
   "metadata": {
    "collapsed": true
   },
   "outputs": [],
   "source": [
    "new_data['awaiting_time'] =pd.to_datetime(new_data['DateScheduled']) - pd.to_datetime(new_data['DateAppointment'])\n",
    "new_data['awaiting_time'] = new_data['awaiting_time'].dt.days"
   ]
  },
  {
   "cell_type": "code",
   "execution_count": 17,
   "metadata": {
    "collapsed": true
   },
   "outputs": [],
   "source": [
    "new_data['awaiting_time'] = new_data['awaiting_time'] * -1"
   ]
  },
  {
   "cell_type": "markdown",
   "metadata": {},
   "source": [
    "<a id='mapping'></a>\n",
    "## 5. Mapping"
   ]
  },
  {
   "cell_type": "code",
   "execution_count": 18,
   "metadata": {
    "collapsed": true
   },
   "outputs": [],
   "source": [
    "### target feature\n",
    "new_data['No-show'] = new_data['No-show'].map({'Yes': 1, 'No': 0})\n",
    "###Gender Feature\n",
    "new_data['Gender'] = new_data['Gender'].map({'F': 1, 'M': 0})"
   ]
  },
  {
   "cell_type": "code",
   "execution_count": 19,
   "metadata": {},
   "outputs": [
    {
     "data": {
      "text/plain": [
       "array([0, 1, 3, 2])"
      ]
     },
     "execution_count": 19,
     "metadata": {},
     "output_type": "execute_result"
    }
   ],
   "source": [
    "new_data['Event'] = new_data['Event'].map({'Nothing': 0, 'Fog': 1, 'Rain': 2, 'Thunderstorm': 3})\n",
    "new_data['Event'].unique()"
   ]
  },
  {
   "cell_type": "markdown",
   "metadata": {},
   "source": [
    "<a id='Repeat'></a>\n",
    "## 6. Repeat Patient/Already no-show"
   ]
  },
  {
   "cell_type": "code",
   "execution_count": 20,
   "metadata": {},
   "outputs": [
    {
     "name": "stdout",
     "output_type": "stream",
     "text": [
      "0    62299\n",
      "1    48228\n",
      "Name: patient_repeat, dtype: int64\n"
     ]
    }
   ],
   "source": [
    "new_data['PatientId'] = new_data[\"PatientId\"].astype(int)\n",
    "\n",
    "new_data['duplicated'] = new_data.duplicated(['PatientId'])##I want all to be marked as duplicate\n",
    "new_data['duplicated'].head()\n",
    "\n",
    "new_data['patient_repeat'] = new_data['duplicated'].astype(int)\n",
    "print(new_data['patient_repeat'].value_counts())"
   ]
  },
  {
   "cell_type": "code",
   "execution_count": 21,
   "metadata": {
    "collapsed": true
   },
   "outputs": [],
   "source": [
    "new_data['num_app_missed'] = new_data.groupby('PatientId')['No-show'].apply(lambda x: x.cumsum()-x)"
   ]
  },
  {
   "cell_type": "markdown",
   "metadata": {},
   "source": [
    "<a id='more'></a>\n",
    "## 7. More cleaning: Dropping unnecessary columns and dumming it up"
   ]
  },
  {
   "cell_type": "code",
   "execution_count": 22,
   "metadata": {
    "collapsed": true
   },
   "outputs": [],
   "source": [
    "#I am going to do it in case th time for scheduled appointment would correspond to the actual time of appointment:\n",
    "#0 Night, 1 Morning 2 Afternoon and 3 evening\n",
    "new_data['TimeScheduled'] = pd.to_datetime(new_data['TimeScheduled'])\n",
    "new_data = new_data.assign(session=pd.cut(new_data.TimeScheduled.dt.hour,\\\n",
    "                               [0,6,12,18,24],labels=[0,1,2,3]))"
   ]
  },
  {
   "cell_type": "code",
   "execution_count": 23,
   "metadata": {},
   "outputs": [
    {
     "data": {
      "text/plain": [
       "1    72325\n",
       "2    36033\n",
       "0     1578\n",
       "3      591\n",
       "Name: session, dtype: int64"
      ]
     },
     "execution_count": 23,
     "metadata": {},
     "output_type": "execute_result"
    }
   ],
   "source": [
    "##It is telling us that most of the apointments were scheduled during morning and afternoon what has a lot of sense\n",
    "new_data['session'].value_counts()"
   ]
  },
  {
   "cell_type": "code",
   "execution_count": 24,
   "metadata": {},
   "outputs": [
    {
     "data": {
      "text/plain": [
       "(110527, 27)"
      ]
     },
     "execution_count": 24,
     "metadata": {},
     "output_type": "execute_result"
    }
   ],
   "source": [
    "new_data.shape"
   ]
  },
  {
   "cell_type": "code",
   "execution_count": 25,
   "metadata": {
    "collapsed": true
   },
   "outputs": [],
   "source": [
    "new_data['session'] = new_data['session'].astype(float)"
   ]
  },
  {
   "cell_type": "code",
   "execution_count": 26,
   "metadata": {},
   "outputs": [
    {
     "data": {
      "text/html": [
       "<div>\n",
       "<style>\n",
       "    .dataframe thead tr:only-child th {\n",
       "        text-align: right;\n",
       "    }\n",
       "\n",
       "    .dataframe thead th {\n",
       "        text-align: left;\n",
       "    }\n",
       "\n",
       "    .dataframe tbody tr th {\n",
       "        vertical-align: top;\n",
       "    }\n",
       "</style>\n",
       "<table border=\"1\" class=\"dataframe\">\n",
       "  <thead>\n",
       "    <tr style=\"text-align: right;\">\n",
       "      <th></th>\n",
       "      <th>TimeScheduled</th>\n",
       "      <th>session</th>\n",
       "    </tr>\n",
       "  </thead>\n",
       "  <tbody>\n",
       "    <tr>\n",
       "      <th>0</th>\n",
       "      <td>2017-12-16 18:38:08</td>\n",
       "      <td>2.0</td>\n",
       "    </tr>\n",
       "    <tr>\n",
       "      <th>1</th>\n",
       "      <td>2017-12-16 16:08:27</td>\n",
       "      <td>2.0</td>\n",
       "    </tr>\n",
       "    <tr>\n",
       "      <th>2</th>\n",
       "      <td>2017-12-16 16:19:04</td>\n",
       "      <td>2.0</td>\n",
       "    </tr>\n",
       "    <tr>\n",
       "      <th>3</th>\n",
       "      <td>2017-12-16 17:29:31</td>\n",
       "      <td>2.0</td>\n",
       "    </tr>\n",
       "    <tr>\n",
       "      <th>4</th>\n",
       "      <td>2017-12-16 16:07:23</td>\n",
       "      <td>2.0</td>\n",
       "    </tr>\n",
       "  </tbody>\n",
       "</table>\n",
       "</div>"
      ],
      "text/plain": [
       "        TimeScheduled  session\n",
       "0 2017-12-16 18:38:08      2.0\n",
       "1 2017-12-16 16:08:27      2.0\n",
       "2 2017-12-16 16:19:04      2.0\n",
       "3 2017-12-16 17:29:31      2.0\n",
       "4 2017-12-16 16:07:23      2.0"
      ]
     },
     "execution_count": 26,
     "metadata": {},
     "output_type": "execute_result"
    }
   ],
   "source": [
    "new_data[['TimeScheduled', 'session']].head()"
   ]
  },
  {
   "cell_type": "code",
   "execution_count": 27,
   "metadata": {},
   "outputs": [
    {
     "data": {
      "text/plain": [
       "0"
      ]
     },
     "execution_count": 27,
     "metadata": {},
     "output_type": "execute_result"
    }
   ],
   "source": [
    "new_data.isnull().sum().sum()"
   ]
  },
  {
   "cell_type": "markdown",
   "metadata": {},
   "source": [
    "# Dropping unnecessary columns: duplicated and Time Appointment.\n",
    "        ## The first one is replace by Patient Repeat\n",
    "        ## The second one has no use if is only 00."
   ]
  },
  {
   "cell_type": "code",
   "execution_count": 28,
   "metadata": {
    "collapsed": true
   },
   "outputs": [],
   "source": [
    "new_data.drop(['duplicated', 'TimeAppointment'], axis=1, inplace=True)"
   ]
  },
  {
   "cell_type": "code",
   "execution_count": null,
   "metadata": {
    "collapsed": true
   },
   "outputs": [],
   "source": [
    "print(new_data.shape)"
   ]
  },
  {
   "cell_type": "code",
   "execution_count": 30,
   "metadata": {},
   "outputs": [
    {
     "data": {
      "text/plain": [
       "PatientId                   int64\n",
       "AppointmentID               int64\n",
       "Gender                      int64\n",
       "Age                         int64\n",
       "Neighborhood               object\n",
       "Scholarship                 int64\n",
       "Hypertension                int64\n",
       "Diabetes                    int64\n",
       "Alcoholism                  int64\n",
       "Handicap                    int64\n",
       "SMS_received                int64\n",
       "No-show                     int64\n",
       "DateScheduled              object\n",
       "TimeScheduled      datetime64[ns]\n",
       "DateAppointment            object\n",
       "Temp_f                      int64\n",
       "wind_mph                    int64\n",
       "Precip                    float64\n",
       "Event                       int64\n",
       "day_of_week                 int64\n",
       "month_of_year               int64\n",
       "awaiting_time               int64\n",
       "patient_repeat              int64\n",
       "num_app_missed              int64\n",
       "session                   float64\n",
       "dtype: object"
      ]
     },
     "execution_count": 30,
     "metadata": {},
     "output_type": "execute_result"
    }
   ],
   "source": [
    "new_data.dtypes"
   ]
  },
  {
   "cell_type": "markdown",
   "metadata": {},
   "source": [
    "## Separating columns by type"
   ]
  },
  {
   "cell_type": "markdown",
   "metadata": {},
   "source": [
    "# Dummies: day of week, neighborhood, ..."
   ]
  },
  {
   "cell_type": "code",
   "execution_count": 31,
   "metadata": {},
   "outputs": [
    {
     "name": "stdout",
     "output_type": "stream",
     "text": [
      "Index(['TimeScheduled'], dtype='object') 1\n",
      "Index(['Neighborhood', 'DateScheduled', 'DateAppointment'], dtype='object') 3\n",
      "Index(['PatientId', 'AppointmentID', 'Gender', 'Age', 'Scholarship',\n",
      "       'Hypertension', 'Diabetes', 'Alcoholism', 'Handicap', 'SMS_received',\n",
      "       'No-show', 'Temp_f', 'wind_mph', 'Precip', 'Event', 'day_of_week',\n",
      "       'month_of_year', 'awaiting_time', 'patient_repeat', 'num_app_missed',\n",
      "       'session'],\n",
      "      dtype='object') 21\n"
     ]
    }
   ],
   "source": [
    "rars = new_data.select_dtypes(exclude=['object', 'float', 'integer'])\n",
    "print(rars.columns, len(rars.columns))\n",
    "objectes = new_data.select_dtypes(include=['object'])\n",
    "print(objectes.columns, len(objectes.columns))\n",
    "numeric = new_data.select_dtypes(include=['float', 'integer'])\n",
    "print(numeric.columns, len(numeric.columns))"
   ]
  },
  {
   "cell_type": "code",
   "execution_count": 32,
   "metadata": {},
   "outputs": [
    {
     "data": {
      "text/html": [
       "<div>\n",
       "<style>\n",
       "    .dataframe thead tr:only-child th {\n",
       "        text-align: right;\n",
       "    }\n",
       "\n",
       "    .dataframe thead th {\n",
       "        text-align: left;\n",
       "    }\n",
       "\n",
       "    .dataframe tbody tr th {\n",
       "        vertical-align: top;\n",
       "    }\n",
       "</style>\n",
       "<table border=\"1\" class=\"dataframe\">\n",
       "  <thead>\n",
       "    <tr style=\"text-align: right;\">\n",
       "      <th></th>\n",
       "      <th>PatientId</th>\n",
       "      <th>AppointmentID</th>\n",
       "      <th>Gender</th>\n",
       "      <th>Age</th>\n",
       "      <th>Neighborhood</th>\n",
       "      <th>Scholarship</th>\n",
       "      <th>Hypertension</th>\n",
       "      <th>Diabetes</th>\n",
       "      <th>Alcoholism</th>\n",
       "      <th>Handicap</th>\n",
       "      <th>...</th>\n",
       "      <th>hood_SÃO CRISTÓVÃO</th>\n",
       "      <th>hood_SÃO JOSÉ</th>\n",
       "      <th>hood_SÃO PEDRO</th>\n",
       "      <th>hood_TABUAZEIRO</th>\n",
       "      <th>hood_UNIVERSITÁRIO</th>\n",
       "      <th>hood_VILA RUBIM</th>\n",
       "      <th>event_0</th>\n",
       "      <th>event_1</th>\n",
       "      <th>event_2</th>\n",
       "      <th>event_3</th>\n",
       "    </tr>\n",
       "  </thead>\n",
       "  <tbody>\n",
       "    <tr>\n",
       "      <th>0</th>\n",
       "      <td>29872499824296</td>\n",
       "      <td>5642903</td>\n",
       "      <td>1</td>\n",
       "      <td>62</td>\n",
       "      <td>JARDIM DA PENHA</td>\n",
       "      <td>0</td>\n",
       "      <td>1</td>\n",
       "      <td>0</td>\n",
       "      <td>0</td>\n",
       "      <td>0</td>\n",
       "      <td>...</td>\n",
       "      <td>0</td>\n",
       "      <td>0</td>\n",
       "      <td>0</td>\n",
       "      <td>0</td>\n",
       "      <td>0</td>\n",
       "      <td>0</td>\n",
       "      <td>1</td>\n",
       "      <td>0</td>\n",
       "      <td>0</td>\n",
       "      <td>0</td>\n",
       "    </tr>\n",
       "    <tr>\n",
       "      <th>1</th>\n",
       "      <td>558997776694438</td>\n",
       "      <td>5642503</td>\n",
       "      <td>0</td>\n",
       "      <td>56</td>\n",
       "      <td>JARDIM DA PENHA</td>\n",
       "      <td>0</td>\n",
       "      <td>0</td>\n",
       "      <td>0</td>\n",
       "      <td>0</td>\n",
       "      <td>0</td>\n",
       "      <td>...</td>\n",
       "      <td>0</td>\n",
       "      <td>0</td>\n",
       "      <td>0</td>\n",
       "      <td>0</td>\n",
       "      <td>0</td>\n",
       "      <td>0</td>\n",
       "      <td>1</td>\n",
       "      <td>0</td>\n",
       "      <td>0</td>\n",
       "      <td>0</td>\n",
       "    </tr>\n",
       "    <tr>\n",
       "      <th>2</th>\n",
       "      <td>4262962299951</td>\n",
       "      <td>5642549</td>\n",
       "      <td>1</td>\n",
       "      <td>62</td>\n",
       "      <td>MATA DA PRAIA</td>\n",
       "      <td>0</td>\n",
       "      <td>0</td>\n",
       "      <td>0</td>\n",
       "      <td>0</td>\n",
       "      <td>0</td>\n",
       "      <td>...</td>\n",
       "      <td>0</td>\n",
       "      <td>0</td>\n",
       "      <td>0</td>\n",
       "      <td>0</td>\n",
       "      <td>0</td>\n",
       "      <td>0</td>\n",
       "      <td>1</td>\n",
       "      <td>0</td>\n",
       "      <td>0</td>\n",
       "      <td>0</td>\n",
       "    </tr>\n",
       "    <tr>\n",
       "      <th>3</th>\n",
       "      <td>867951213174</td>\n",
       "      <td>5642828</td>\n",
       "      <td>1</td>\n",
       "      <td>8</td>\n",
       "      <td>PONTAL DE CAMBURI</td>\n",
       "      <td>0</td>\n",
       "      <td>0</td>\n",
       "      <td>0</td>\n",
       "      <td>0</td>\n",
       "      <td>0</td>\n",
       "      <td>...</td>\n",
       "      <td>0</td>\n",
       "      <td>0</td>\n",
       "      <td>0</td>\n",
       "      <td>0</td>\n",
       "      <td>0</td>\n",
       "      <td>0</td>\n",
       "      <td>1</td>\n",
       "      <td>0</td>\n",
       "      <td>0</td>\n",
       "      <td>0</td>\n",
       "    </tr>\n",
       "    <tr>\n",
       "      <th>4</th>\n",
       "      <td>8841186448183</td>\n",
       "      <td>5642494</td>\n",
       "      <td>1</td>\n",
       "      <td>56</td>\n",
       "      <td>JARDIM DA PENHA</td>\n",
       "      <td>0</td>\n",
       "      <td>1</td>\n",
       "      <td>1</td>\n",
       "      <td>0</td>\n",
       "      <td>0</td>\n",
       "      <td>...</td>\n",
       "      <td>0</td>\n",
       "      <td>0</td>\n",
       "      <td>0</td>\n",
       "      <td>0</td>\n",
       "      <td>0</td>\n",
       "      <td>0</td>\n",
       "      <td>1</td>\n",
       "      <td>0</td>\n",
       "      <td>0</td>\n",
       "      <td>0</td>\n",
       "    </tr>\n",
       "  </tbody>\n",
       "</table>\n",
       "<p>5 rows × 116 columns</p>\n",
       "</div>"
      ],
      "text/plain": [
       "         PatientId  AppointmentID  Gender  Age       Neighborhood  \\\n",
       "0   29872499824296        5642903       1   62    JARDIM DA PENHA   \n",
       "1  558997776694438        5642503       0   56    JARDIM DA PENHA   \n",
       "2    4262962299951        5642549       1   62      MATA DA PRAIA   \n",
       "3     867951213174        5642828       1    8  PONTAL DE CAMBURI   \n",
       "4    8841186448183        5642494       1   56    JARDIM DA PENHA   \n",
       "\n",
       "   Scholarship  Hypertension  Diabetes  Alcoholism  Handicap   ...     \\\n",
       "0            0             1         0           0         0   ...      \n",
       "1            0             0         0           0         0   ...      \n",
       "2            0             0         0           0         0   ...      \n",
       "3            0             0         0           0         0   ...      \n",
       "4            0             1         1           0         0   ...      \n",
       "\n",
       "   hood_SÃO CRISTÓVÃO  hood_SÃO JOSÉ hood_SÃO PEDRO hood_TABUAZEIRO  \\\n",
       "0                   0              0              0               0   \n",
       "1                   0              0              0               0   \n",
       "2                   0              0              0               0   \n",
       "3                   0              0              0               0   \n",
       "4                   0              0              0               0   \n",
       "\n",
       "  hood_UNIVERSITÁRIO  hood_VILA RUBIM  event_0  event_1  event_2  event_3  \n",
       "0                  0                0        1        0        0        0  \n",
       "1                  0                0        1        0        0        0  \n",
       "2                  0                0        1        0        0        0  \n",
       "3                  0                0        1        0        0        0  \n",
       "4                  0                0        1        0        0        0  \n",
       "\n",
       "[5 rows x 116 columns]"
      ]
     },
     "execution_count": 32,
     "metadata": {},
     "output_type": "execute_result"
    }
   ],
   "source": [
    "renew_data = pd.concat([new_data, pd.get_dummies(new_data['day_of_week'], prefix='dow'),\\\n",
    "                  pd.get_dummies(new_data['Neighborhood'], prefix='hood'), pd.get_dummies(new_data['Event'], prefix='event')], axis=1)\n",
    "renew_data.head()"
   ]
  },
  {
   "cell_type": "code",
   "execution_count": 33,
   "metadata": {},
   "outputs": [
    {
     "data": {
      "text/plain": [
       "0"
      ]
     },
     "execution_count": 33,
     "metadata": {},
     "output_type": "execute_result"
    }
   ],
   "source": [
    "renew_data.isnull().sum().sum()"
   ]
  },
  {
   "cell_type": "code",
   "execution_count": 34,
   "metadata": {
    "collapsed": true
   },
   "outputs": [],
   "source": [
    "renew_data.to_csv('appointments2016.csv',index=False, encoding='utf-8')"
   ]
  }
 ],
 "metadata": {
  "kernelspec": {
   "display_name": "Python 3",
   "language": "python",
   "name": "python3"
  },
  "language_info": {
   "codemirror_mode": {
    "name": "ipython",
    "version": 3
   },
   "file_extension": ".py",
   "mimetype": "text/x-python",
   "name": "python",
   "nbconvert_exporter": "python",
   "pygments_lexer": "ipython3",
   "version": "3.6.1"
  }
 },
 "nbformat": 4,
 "nbformat_minor": 2
}
