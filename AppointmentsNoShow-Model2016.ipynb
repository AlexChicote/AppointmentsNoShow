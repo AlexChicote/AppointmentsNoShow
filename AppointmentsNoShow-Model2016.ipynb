{
 "cells": [
  {
   "cell_type": "code",
   "execution_count": 32,
   "metadata": {
    "collapsed": true
   },
   "outputs": [],
   "source": [
    "import numpy as np\n",
    "import pandas as pd\n",
    "import matplotlib.pyplot as plt\n",
    "import seaborn as sns\n",
    "from datetime import date, datetime, timedelta\n",
    "#Con esto podemos echar un vistazo a código HTML directamente en la Notebook\n",
    "from IPython.display import HTML, display\n",
    "from sklearn.linear_model import LogisticRegressionCV, LogisticRegression\n",
    "from sklearn.model_selection import train_test_split, cross_val_score\n",
    "from sklearn.preprocessing import StandardScaler\n",
    "from sklearn.pipeline import Pipeline, make_pipeline\n",
    "\n",
    "from sklearn.neighbors import KNeighborsClassifier\n",
    "from sklearn.metrics import mean_squared_error, accuracy_score\n",
    "from sklearn.model_selection import GridSearchCV, train_test_split, cross_val_predict, cross_val_score\n",
    "from sklearn.feature_selection import rfe, SelectKBest, f_classif, f_regression\n",
    "from sklearn.preprocessing import StandardScaler\n",
    "from sklearn.ensemble import GradientBoostingClassifier, RandomForestClassifier, AdaBoostClassifier\n",
    "from sklearn.tree import DecisionTreeClassifier\n",
    "from sklearn.svm import SVC\n",
    "%matplotlib inline"
   ]
  },
  {
   "cell_type": "code",
   "execution_count": 33,
   "metadata": {},
   "outputs": [
    {
     "data": {
      "text/plain": [
       "(110527, 117)"
      ]
     },
     "execution_count": 33,
     "metadata": {},
     "output_type": "execute_result"
    }
   ],
   "source": [
    "file = 'appointments2016.csv'\n",
    "data = pd.read_csv(file)\n",
    "data.shape"
   ]
  },
  {
   "cell_type": "code",
   "execution_count": 34,
   "metadata": {},
   "outputs": [
    {
     "data": {
      "text/plain": [
       "(110527, 117)"
      ]
     },
     "execution_count": 34,
     "metadata": {},
     "output_type": "execute_result"
    }
   ],
   "source": [
    "data.shape"
   ]
  },
  {
   "cell_type": "markdown",
   "metadata": {},
   "source": [
    "## BASELINE 2016"
   ]
  },
  {
   "cell_type": "code",
   "execution_count": 35,
   "metadata": {},
   "outputs": [
    {
     "data": {
      "text/plain": [
       "0.798067440534892"
      ]
     },
     "execution_count": 35,
     "metadata": {},
     "output_type": "execute_result"
    }
   ],
   "source": [
    "1 - data['No-show'].sum()/len(data['No-show'])"
   ]
  },
  {
   "cell_type": "code",
   "execution_count": 36,
   "metadata": {},
   "outputs": [
    {
     "data": {
      "text/plain": [
       "108"
      ]
     },
     "execution_count": 36,
     "metadata": {},
     "output_type": "execute_result"
    }
   ],
   "source": [
    "features_to_ignore = ['DateAppointment','TimeScheduled', 'DateScheduled', 'AppointmentID',\\\n",
    "                      'PatientId', 'Neighbourhood', 'day_of_week', 'event', 'No-show']\n",
    "valid_features = [c for c in data.columns if c not in features_to_ignore]\n",
    "len(valid_features)"
   ]
  },
  {
   "cell_type": "code",
   "execution_count": 37,
   "metadata": {
    "collapsed": true
   },
   "outputs": [],
   "source": [
    "\n",
    "X = data[valid_features]\n",
    "y = data['No-show']"
   ]
  },
  {
   "cell_type": "code",
   "execution_count": 38,
   "metadata": {
    "collapsed": true
   },
   "outputs": [],
   "source": [
    "X_train, X_test, y_train, y_test = train_test_split(X,y, test_size=.25)"
   ]
  },
  {
   "cell_type": "code",
   "execution_count": 39,
   "metadata": {},
   "outputs": [
    {
     "data": {
      "text/plain": [
       "(27632,)"
      ]
     },
     "execution_count": 39,
     "metadata": {},
     "output_type": "execute_result"
    }
   ],
   "source": [
    "y_test.shape"
   ]
  },
  {
   "cell_type": "code",
   "execution_count": 40,
   "metadata": {
    "collapsed": true
   },
   "outputs": [],
   "source": [
    "mpipe = make_pipeline(StandardScaler(), LogisticRegressionCV(cv=3))\n",
    "pipe = Pipeline([\n",
    "    ('scale', StandardScaler()),\n",
    "    ('fit', LogisticRegressionCV(cv=3))\n",
    "])"
   ]
  },
  {
   "cell_type": "code",
   "execution_count": 41,
   "metadata": {},
   "outputs": [
    {
     "data": {
      "text/plain": [
       "Pipeline(steps=[('scale', StandardScaler(copy=True, with_mean=True, with_std=True)), ('fit', LogisticRegressionCV(Cs=10, class_weight=None, cv=3, dual=False,\n",
       "           fit_intercept=True, intercept_scaling=1.0, max_iter=100,\n",
       "           multi_class='ovr', n_jobs=1, penalty='l2', random_state=None,\n",
       "           refit=True, scoring=None, solver='lbfgs', tol=0.0001, verbose=0))])"
      ]
     },
     "execution_count": 41,
     "metadata": {},
     "output_type": "execute_result"
    }
   ],
   "source": [
    "pipe.fit(X_train, y_train)"
   ]
  },
  {
   "cell_type": "code",
   "execution_count": 22,
   "metadata": {},
   "outputs": [
    {
     "data": {
      "text/plain": [
       "0.8004849449913144"
      ]
     },
     "execution_count": 22,
     "metadata": {},
     "output_type": "execute_result"
    }
   ],
   "source": [
    "pipe.score(X_test, y_test)"
   ]
  },
  {
   "cell_type": "code",
   "execution_count": 42,
   "metadata": {
    "collapsed": true
   },
   "outputs": [],
   "source": [
    "gbcpipe = make_pipeline(StandardScaler(), GradientBoostingClassifier())\n",
    "gbcpipe = Pipeline([\n",
    "    ('scale', StandardScaler()),\n",
    "    ('fit', GradientBoostingClassifier())\n",
    "])"
   ]
  },
  {
   "cell_type": "code",
   "execution_count": 43,
   "metadata": {},
   "outputs": [
    {
     "data": {
      "text/plain": [
       "0.79932686740011583"
      ]
     },
     "execution_count": 43,
     "metadata": {},
     "output_type": "execute_result"
    }
   ],
   "source": [
    "gbcpipe.fit(X_train, y_train)\n",
    "gbcpipe.score(X_test, y_test)"
   ]
  },
  {
   "cell_type": "code",
   "execution_count": null,
   "metadata": {},
   "outputs": [
    {
     "name": "stdout",
     "output_type": "stream",
     "text": [
      "best score 0.798673020086\n",
      "best params {'learning_rate': 0.2, 'n_estimators': 75}\n",
      "test score 0.796286913723\n",
      "AdaBoost 0.796286913723\n"
     ]
    }
   ],
   "source": [
    "X = data[valid_features].copy()\n",
    "y = data['No-show'].copy()\n",
    "\n",
    "X_train, X_test, y_train, y_test = train_test_split(X, y, test_size=0.25, random_state=2)\n",
    "\n",
    "ss = StandardScaler()\n",
    "Xs_train = ss.fit_transform(X_train)\n",
    "Xs_test = ss.fit_transform(X_test)\n",
    "\n",
    "\n",
    "#AdaBoost\n",
    "ada = AdaBoostClassifier()\n",
    "ada_params = {'n_estimators': [15, 25, 50, 75],\n",
    "             'learning_rate': [0.01, 0.03, 0.05, .1, 0.2]}\n",
    "ada_model = GridSearchCV(ada, param_grid=ada_params, cv=5)\n",
    "ada_model.fit(Xs_train, y_train)\n",
    "print('best score', ada_model.best_score_)\n",
    "print('best params', ada_model.best_params_)\n",
    "print('test score', ada_model.score(Xs_test, y_test))\n",
    "predictions = ada_model.predict(Xs_test)\n",
    "acc = accuracy_score(y_test, predictions)\n",
    "print('AdaBoost', acc)\n",
    "#gboosting\n",
    "gbc = GradientBoostingClassifier()\n",
    "gbc_params = {'n_estimators': [100, 125, 150, 175], 'loss': ['deviance', 'exponential'], 'max_depth': range(1,4)}\n",
    "gbc_model = GridSearchCV(gbc, param_grid=gbc_params, cv = 5)\n",
    "gbc_model.fit(Xs_train, y_train)\n",
    "print('best score', gbc_model.best_score_)\n",
    "print('best params', gbc_model.best_params_)\n",
    "print('test score', gbc_model.score(Xs_test, y_test))\n",
    "\n",
    "predictions = gbc_model.predict(Xs_test)\n",
    "acc = accuracy_score(y_test, predictions)\n",
    "print('gbc', acc)\n",
    "#KNeighbors\n",
    "knn = KNeighborsClassifier()\n",
    "knn_params = {'n_neighbors': range(2,6), 'weights': ['uniform', 'distance'], 'algorithm': ['auto', 'ball_tree']}\n",
    "knn_model = GridSearchCV(knn, param_grid=knn_params, cv=5)\n",
    "knn_model.fit(Xs_train, y_train)\n",
    "print('best score', knn_model.best_score_)\n",
    "print('best params', knn_model.best_params_)\n",
    "print('test score', knn_model.score(Xs_test, y_test))\n",
    "predictions = knn_model.predict(Xs_test)\n",
    "acc = accuracy_score(y_test, predictions)\n",
    "print('knn', acc)\n",
    "#Decision Tree\n",
    "dt = DecisionTreeClassifier()\n",
    "dt_params = {'max_depth': range(2, 40)}\n",
    "dt_model = GridSearchCV(dt, param_grid=dt_params, cv=5)\n",
    "dt_model.fit(Xs_train, y_train)\n",
    "print('best score', dt_model.best_score_)\n",
    "print('best params', dt_model.best_params_)\n",
    "print('test score', dt_model.score(Xs_test, y_test))\n",
    "predictions = dt_model.predict(Xs_test)\n",
    "acc = accuracy_score(y_test, predictions)\n",
    "print('DecTree', acc)\n",
    "##Random Forest\n",
    "rf = RandomForestClassifier()\n",
    "rf_params = {'max_depth': range(2, 40), 'n_estimators': range(10, 100, 10)}\n",
    "rf_model = GridSearchCV(rf, param_grid=rf_params, cv=5)\n",
    "rf_model.fit(Xs_train, y_train)\n",
    "print('best score', rf_model.best_score_)\n",
    "print('best params', rf_model.best_params_)\n",
    "print('test score', rf_model.score(Xs_test, y_test))\n",
    "predictions = rf_model.predict(Xs_test)\n",
    "acc = accuracy_score(y_test, predictions)\n",
    "print('RandomForest', acc)\n",
    "##Support Vector Machines\n",
    "svc = SVC()\n",
    "\n",
    "svc_params = {'C': range(1, 5),\n",
    "             'kernel': ['linear', 'rbf']}\n",
    "svc_model = GridSearchCV(svc, param_grid=svc_params, cv=5)##put cv\n",
    "svc_model.fit(Xs_train, y_train)\n",
    "print('best score', svc_model.best_score_)\n",
    "print('best params', svc_model.best_params_)\n",
    "print('test score', svc_model.score(Xs_test, y_test))\n",
    "predictions = svc_model.predict(Xs_test)\n",
    "acc = accuracy_score(y_test, predictions)\n",
    "print('SVC', acc)\n",
    "##Logistic Regression\n",
    "logreg = SGDClassifier()\n",
    "logreg_params = {'loss': ['hinge', 'log', 'squared_hinge'],\n",
    "                'penalty': ['l1', 'l2'], 'n_jobs': [-1]}\n",
    "logreg_model = GridSearchCV(logreg, param_grid=logreg_params, cv=5)\n",
    "logreg_model.fit(Xs_train, y_train)\n",
    "print('best score', logreg_model.best_score_)\n",
    "print('best params', logreg_model.best_params_)\n",
    "print('test score', logreg_model.score(Xs_test, y_test))\n",
    "logreg.fit(Xs_train, y_train)\n",
    "predictions = logreg_model.predict(Xs_test)\n",
    "acc = accuracy_score(y_test, predictions)\n",
    "print('LogReg', acc)"
   ]
  },
  {
   "cell_type": "code",
   "execution_count": null,
   "metadata": {
    "collapsed": true
   },
   "outputs": [],
   "source": [
    "X"
   ]
  }
 ],
 "metadata": {
  "kernelspec": {
   "display_name": "Python 3",
   "language": "python",
   "name": "python3"
  },
  "language_info": {
   "codemirror_mode": {
    "name": "ipython",
    "version": 3
   },
   "file_extension": ".py",
   "mimetype": "text/x-python",
   "name": "python",
   "nbconvert_exporter": "python",
   "pygments_lexer": "ipython3",
   "version": "3.6.1"
  }
 },
 "nbformat": 4,
 "nbformat_minor": 2
}
