{
 "cells": [
  {
   "cell_type": "code",
   "execution_count": 1,
   "metadata": {
    "collapsed": true
   },
   "outputs": [],
   "source": [
    "import numpy as np\n",
    "import pandas as pd\n",
    "import matplotlib.pyplot as plt\n",
    "import seaborn as sns\n",
    "%matplotlib inline\n",
    "import requests\n",
    "from bs4 import BeautifulSoup\n",
    "from datetime import date, datetime, timedelta\n",
    "#Con esto podemos echar un vistazo a código HTML directamente en la Notebook\n",
    "from IPython.display import HTML, display"
   ]
  },
  {
   "cell_type": "markdown",
   "metadata": {},
   "source": [
    "## Combining 2016 data: appointments and weather"
   ]
  },
  {
   "cell_type": "code",
   "execution_count": 7,
   "metadata": {
    "collapsed": true
   },
   "outputs": [],
   "source": [
    "file = 'KaggleV2-May-2016.csv'\n",
    "data = pd.read_csv(file)\n",
    "w2016 = pd.read_csv('w2016.csv')\n",
    "\n",
    "temp = pd.DatetimeIndex(data['ScheduledDay'])\n",
    "data['DateScheduled'] = temp.date\n",
    "data['TimeScheduled'] = temp.time\n",
    "temp1 = pd.DatetimeIndex(data['AppointmentDay'])\n",
    "data['DateAppointment'] = temp1.date\n",
    "data['TimeAppointment'] = temp1.time\n",
    "data.drop(['ScheduledDay', 'AppointmentDay'], axis=1, inplace=True)"
   ]
  },
  {
   "cell_type": "code",
   "execution_count": 4,
   "metadata": {},
   "outputs": [
    {
     "name": "stdout",
     "output_type": "stream",
     "text": [
      "2016-06-08 2016-04-29\n",
      "2016-06-08 2015-11-10\n"
     ]
    }
   ],
   "source": [
    "print(data['DateAppointment'].max(), data['DateAppointment'].min())\n",
    "print(data['DateScheduled'].max(), data['DateScheduled'].min())"
   ]
  },
  {
   "cell_type": "markdown",
   "metadata": {},
   "source": [
    "## merging dataframes"
   ]
  },
  {
   "cell_type": "code",
   "execution_count": 20,
   "metadata": {},
   "outputs": [
    {
     "name": "stdout",
     "output_type": "stream",
     "text": [
      "0   2016-04-29\n",
      "1   2016-04-29\n",
      "2   2016-04-29\n",
      "3   2016-04-29\n",
      "4   2016-04-29\n",
      "Name: DateAppointment, dtype: datetime64[ns] 0   2016-04-29\n",
      "1   2016-04-30\n",
      "2   2016-05-01\n",
      "3   2016-05-02\n",
      "4   2016-05-03\n",
      "Name: date, dtype: datetime64[ns]\n"
     ]
    }
   ],
   "source": [
    "data['DateAppointment'] = pd.to_datetime(data['DateAppointment'])\n",
    "w2016['date'] = pd.to_datetime(w2016['date'])\n",
    "print(data['DateAppointment'].head(), w2016['date'].head())\n",
    "\n",
    "prova = pd.merge(data, w2016, right_on='date', left_on='DateAppointment', how='left')\n",
    "prova[['DateAppointment', 'date']].head()\n",
    "\n",
    "prova.to_csv('final_2016.csv',index=False, encoding = 'utf-8')"
   ]
  },
  {
   "cell_type": "code",
   "execution_count": 11,
   "metadata": {},
   "outputs": [
    {
     "name": "stdout",
     "output_type": "stream",
     "text": [
      "2016-04-29 00:00:00 2016-06-08 00:00:00\n",
      "2015-11-10 2016-06-08\n"
     ]
    }
   ],
   "source": [
    "print(prova['DateAppointment'].min(), prova['DateAppointment'].max())\n",
    "print(prova['DateScheduled'].min(), prova['DateScheduled'].max())"
   ]
  },
  {
   "cell_type": "markdown",
   "metadata": {},
   "source": [
    "## Combining 2014-15 data: Appointments and weather"
   ]
  },
  {
   "cell_type": "code",
   "execution_count": 49,
   "metadata": {},
   "outputs": [
    {
     "name": "stdout",
     "output_type": "stream",
     "text": [
      "2014-01-02 2015-12-30\n"
     ]
    }
   ],
   "source": [
    "new_file = 'No-show-Issue-Comma-300k.csv'\n",
    "new_df = pd.read_csv(new_file)\n",
    "new_df['ApointmentData'].head()\n",
    "\n",
    "temp = pd.DatetimeIndex(new_df['ApointmentData'])\n",
    "new_df['DateAppointment'] = temp.date\n",
    "new_df['TimeAppointment'] = temp.time\n",
    "temp1 = pd.DatetimeIndex(new_df['AppointmentRegistration'])\n",
    "new_df['DateScheduled'] = temp1.date\n",
    "new_df['TimeScheduled'] = temp1.time\n",
    "new_df.drop(['ApointmentData', 'AppointmentRegistration'], axis=1, inplace=True)\n",
    "\n",
    "print(new_df['DateAppointment'].min(), new_df['DateAppointment'].max())"
   ]
  },
  {
   "cell_type": "code",
   "execution_count": 50,
   "metadata": {
    "collapsed": true
   },
   "outputs": [],
   "source": [
    "f_2015 = 'w2015.csv'\n",
    "f_2014 = 'w2014.csv'\n",
    "w15 = pd.read_csv(f_2014)\n",
    "w14 = pd.read_csv(f_2015)"
   ]
  },
  {
   "cell_type": "code",
   "execution_count": 51,
   "metadata": {},
   "outputs": [
    {
     "name": "stdout",
     "output_type": "stream",
     "text": [
      "(365, 22)\n",
      "(365, 22)\n"
     ]
    }
   ],
   "source": [
    "print(w14.shape)\n",
    "print(w15.shape)"
   ]
  },
  {
   "cell_type": "code",
   "execution_count": 52,
   "metadata": {
    "collapsed": true
   },
   "outputs": [],
   "source": [
    "w1415 = w15.append(w14, ignore_index=True)"
   ]
  },
  {
   "cell_type": "code",
   "execution_count": 53,
   "metadata": {
    "collapsed": true
   },
   "outputs": [],
   "source": [
    "new_df['DateAppointment'] = pd.to_datetime(new_df['DateAppointment'])\n",
    "w1415['date'] = pd.to_datetime(w1415['date'])\n",
    "\n",
    "prova_2 = pd.merge(new_df, w1415, right_on='date', left_on='DateAppointment', how='left')\n",
    "prova_2[['DateAppointment', 'date']].head()\n",
    "prova_2.shape\n",
    "\n",
    "prova_2.to_csv('final_201415.csv',index=False, encoding = 'utf-8')"
   ]
  }
 ],
 "metadata": {
  "kernelspec": {
   "display_name": "Python 3",
   "language": "python",
   "name": "python3"
  },
  "language_info": {
   "codemirror_mode": {
    "name": "ipython",
    "version": 3
   },
   "file_extension": ".py",
   "mimetype": "text/x-python",
   "name": "python",
   "nbconvert_exporter": "python",
   "pygments_lexer": "ipython3",
   "version": "3.6.1"
  }
 },
 "nbformat": 4,
 "nbformat_minor": 2
}
